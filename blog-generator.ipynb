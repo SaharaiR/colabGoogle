Project 1: Blog Generator with OpenAI API
Welcome to the first project of our course! In this section, we'll embark on an exciting journey to build a Blog Generator using the powerful OpenAI API. Our goal is to create an intelligent system capable of generating engaging and coherent blog content with just a prompt from the user. This project will not only introduce you to the world of AI-driven content creation but also demonstrate the practical application of the OpenAI API within a real-world scenario.

What You Will Learn
OpenAI API Overview: Gain a solid understanding of the OpenAI API and its capabilities for natural language processing and generation.
Setting Up Google Colab: Familiarize yourself with Google Colab, an ideal platform for running Python code and integrating APIs in a cloud-based environment.
Prompt Engineering: Develop skills in crafting prompts that guide the AI to produce the desired output, a critical aspect of leveraging generative language models.
Content Generation: Understand how to generate text that is coherent, contextually relevant, and stylistically appropriate for blog posts.
Project Objectives
By the end of this project, you will have created a Blog Generator that can:

Take User Input: Accept user-defined prompts or topics to generate content about.
Generate Blog Posts: Produce complete blog posts that are ready for publication, including titles, headers, and paragraphs.
Display Results: Present the generated blog posts in a clear and organized format within Google Colab.
Before We Start
Make sure you have:

A Google Colab account set up.
Basic knowledge of Python programming.
An OpenAI API key (you can obtain one from OpenAI).
Let's Build!
Are you ready to dive into the world of AI and transform the way blog content is created? Let's get started on building your very own Blog Generator using the OpenAI API!

2. Libraries import
[ ]
!pip install openai
Requirement already satisfied: openai in /usr/local/lib/python3.10/dist-packages (1.28.0)
Requirement already satisfied: anyio<5,>=3.5.0 in /usr/local/lib/python3.10/dist-packages (from openai) (3.7.1)
Requirement already satisfied: distro<2,>=1.7.0 in /usr/lib/python3/dist-packages (from openai) (1.7.0)
Requirement already satisfied: httpx<1,>=0.23.0 in /usr/local/lib/python3.10/dist-packages (from openai) (0.27.0)
Requirement already satisfied: pydantic<3,>=1.9.0 in /usr/local/lib/python3.10/dist-packages (from openai) (2.7.1)
Requirement already satisfied: sniffio in /usr/local/lib/python3.10/dist-packages (from openai) (1.3.1)
Requirement already satisfied: tqdm>4 in /usr/local/lib/python3.10/dist-packages (from openai) (4.66.4)
Requirement already satisfied: typing-extensions<5,>=4.7 in /usr/local/lib/python3.10/dist-packages (from openai) (4.11.0)
Requirement already satisfied: idna>=2.8 in /usr/local/lib/python3.10/dist-packages (from anyio<5,>=3.5.0->openai) (3.7)
Requirement already satisfied: exceptiongroup in /usr/local/lib/python3.10/dist-packages (from anyio<5,>=3.5.0->openai) (1.2.1)
Requirement already satisfied: certifi in /usr/local/lib/python3.10/dist-packages (from httpx<1,>=0.23.0->openai) (2024.2.2)
Requirement already satisfied: httpcore==1.* in /usr/local/lib/python3.10/dist-packages (from httpx<1,>=0.23.0->openai) (1.0.5)
Requirement already satisfied: h11<0.15,>=0.13 in /usr/local/lib/python3.10/dist-packages (from httpcore==1.*->httpx<1,>=0.23.0->openai) (0.14.0)
Requirement already satisfied: annotated-types>=0.4.0 in /usr/local/lib/python3.10/dist-packages (from pydantic<3,>=1.9.0->openai) (0.6.0)
Requirement already satisfied: pydantic-core==2.18.2 in /usr/local/lib/python3.10/dist-packages (from pydantic<3,>=1.9.0->openai) (2.18.2)
[ ]
import os
import openai

from openai import OpenAI
3. Sending a first request to OpenAI API
3.1 Setting up API Key
[ ]
os.environ["OPENAI_API_KEY"] = "sk-proj-1UQAywdAc1dQIBG6xBuTT3BlbkFJnSqR16xAJNJ91nKWIB7H"
client = OpenAI()
3.2 OpenAI available models
[ ]
print(client.models.list())
SyncPage[Model](data=[Model(id='dall-e-3', created=1698785189, object='model', owned_by='system'), Model(id='whisper-1', created=1677532384, object='model', owned_by='openai-internal'), Model(id='davinci-002', created=1692634301, object='model', owned_by='system'), Model(id='dall-e-2', created=1698798177, object='model', owned_by='system'), Model(id='gpt-3.5-turbo-16k', created=1683758102, object='model', owned_by='openai-internal'), Model(id='tts-1-hd-1106', created=1699053533, object='model', owned_by='system'), Model(id='tts-1-hd', created=1699046015, object='model', owned_by='system'), Model(id='gpt-3.5-turbo-1106', created=1698959748, object='model', owned_by='system'), Model(id='gpt-3.5-turbo-instruct-0914', created=1694122472, object='model', owned_by='system'), Model(id='gpt-3.5-turbo-instruct', created=1692901427, object='model', owned_by='system'), Model(id='tts-1', created=1681940951, object='model', owned_by='openai-internal'), Model(id='gpt-3.5-turbo', created=1677610602, object='model', owned_by='openai'), Model(id='gpt-3.5-turbo-0301', created=1677649963, object='model', owned_by='openai'), Model(id='babbage-002', created=1692634615, object='model', owned_by='system'), Model(id='tts-1-1106', created=1699053241, object='model', owned_by='system'), Model(id='gpt-3.5-turbo-0125', created=1706048358, object='model', owned_by='system'), Model(id='text-embedding-3-large', created=1705953180, object='model', owned_by='system'), Model(id='text-embedding-3-small', created=1705948997, object='model', owned_by='system'), Model(id='gpt-3.5-turbo-0613', created=1686587434, object='model', owned_by='openai'), Model(id='text-embedding-ada-002', created=1671217299, object='model', owned_by='openai-internal'), Model(id='gpt-3.5-turbo-16k-0613', created=1685474247, object='model', owned_by='openai')], object='list')
Find about the Completion endpoint and all of its arguments: https://platform.openai.com/docs/api-reference/completions/create

[ ]
client.completions.create(
    model = "gpt-3.5-turbo-instructor",
    prompt = "Story about a car can talk",
    max_tokens = 500
)

4. Building our Blog generator
[ ]
user_topic = input("Specific topic: ")
additional_info = input("Any additional info: ")
custom_prompt = f"""
You are a copy writer with years of experience writing blog that converge and help elevate brands.
Your tasks is to write a blog on any topic system provides you with. Make sure to write in a format hat works for Medium.
Each blog should be separated into segments that have titles an subtitles. Each paragraph shoul be three sentences long.
Topic: {user_topic}
Additional pointers: {additional_info}
"""

response= client.completions.create(
    model = "gpt-3.5-turbo-instruct",
    prompt = custom_prompt,
    max_tokens = 700,
    temperature = 1
)
[ ]
print(response.choices[0].text)
[ ]

Comienza a programar o generar con IA.
[ ]

Comienza a programar o generar con IA.
4.2 Accepting user inputs
[ ]

Comienza a programar o generar con IA.
[ ]
[ ]
